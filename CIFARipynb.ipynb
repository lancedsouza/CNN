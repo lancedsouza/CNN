{
  "cells": [
    {
      "cell_type": "markdown",
      "metadata": {
        "id": "view-in-github",
        "colab_type": "text"
      },
      "source": [
        "<a href=\"https://colab.research.google.com/github/lancedsouza/CNN/blob/main/CIFARipynb.ipynb\" target=\"_parent\"><img src=\"https://colab.research.google.com/assets/colab-badge.svg\" alt=\"Open In Colab\"/></a>"
      ]
    },
    {
      "cell_type": "code",
      "execution_count": 1,
      "metadata": {
        "id": "7Z0Ul3GBzoj9"
      },
      "outputs": [],
      "source": [
        "import torch\n",
        "import torch.nn as nn\n",
        "import torch.optim as optim\n",
        "import torchvision\n",
        "import torchvision.transforms as transform\n",
        "from torch.utils.data import DataLoader\n",
        "import matplotlib.pyplot as plt\n",
        "import numpy as np"
      ]
    },
    {
      "cell_type": "code",
      "execution_count": 2,
      "metadata": {
        "colab": {
          "base_uri": "https://localhost:8080/"
        },
        "id": "Or7EVdtN0ofn",
        "outputId": "562c450b-ec30-4168-939d-88c9eac7d891"
      },
      "outputs": [
        {
          "output_type": "stream",
          "name": "stderr",
          "text": [
            "100%|██████████| 170M/170M [00:12<00:00, 13.1MB/s]\n"
          ]
        }
      ],
      "source": [
        "# Get the datatset\n",
        "# Load CIFAR-10 datasets\n",
        "transform = torchvision.transforms.Compose([\n",
        "    torchvision.transforms.ToTensor(),\n",
        "    torchvision.transforms.Normalize((0.5, 0.5, 0.5), (0.5, 0.5, 0.5))\n",
        "])\n",
        "trainset = torchvision.datasets.CIFAR10(root='./data', train=True, download=True, transform=transform)\n",
        "testset = torchvision.datasets.CIFAR10(root='./data', train=False, download=True, transform=transform)\n",
        "\n",
        "# Wrap datasets in DataLoader (this is where num_workers and pin_memory go)\n",
        "train_dataloader = DataLoader(trainset, batch_size=64, shuffle=True, num_workers=2, pin_memory=True)\n",
        "test_dataloader = DataLoader(testset, batch_size=64, shuffle=False, num_workers=2, pin_memory=True)\n"
      ]
    },
    {
      "cell_type": "code",
      "execution_count": 3,
      "metadata": {
        "colab": {
          "base_uri": "https://localhost:8080/"
        },
        "id": "Dr7JBgZm1mOd",
        "outputId": "d64b7c02-9e9d-46de-8aa8-c5d28f690b3a"
      },
      "outputs": [
        {
          "output_type": "execute_result",
          "data": {
            "text/plain": [
              "50000"
            ]
          },
          "metadata": {},
          "execution_count": 3
        }
      ],
      "source": [
        "len(trainset)"
      ]
    },
    {
      "cell_type": "code",
      "execution_count": 4,
      "metadata": {
        "colab": {
          "base_uri": "https://localhost:8080/"
        },
        "id": "sE7FubU12Iq4",
        "outputId": "c8511973-3921-4479-9229-34802184cdca"
      },
      "outputs": [
        {
          "output_type": "stream",
          "name": "stdout",
          "text": [
            "torch.Size([3, 32, 32])\n",
            "9\n"
          ]
        }
      ],
      "source": [
        "image,label = trainset[1]\n",
        "print(image.shape)\n",
        "print(label)"
      ]
    },
    {
      "cell_type": "code",
      "execution_count": 5,
      "metadata": {
        "colab": {
          "base_uri": "https://localhost:8080/",
          "height": 452
        },
        "id": "CJwYQoV52XxY",
        "outputId": "148bc89c-66c4-424c-c20b-c359b4c4a528"
      },
      "outputs": [
        {
          "output_type": "display_data",
          "data": {
            "text/plain": [
              "<Figure size 640x480 with 1 Axes>"
            ],
            "image/png": "[encoded data removed]"
          },
          "metadata": {}
        }
      ],
      "source": [
        "\n",
        "import matplotlib.pyplot as plt\n",
        "\n",
        "# Define CIFAR-10 classes\n",
        "classes = [\n",
        "    'airplane', 'automobile', 'bird', 'cat', 'deer',\n",
        "    'dog', 'frog', 'horse', 'ship', 'truck'\n",
        "]\n",
        "\n",
        "# Pick an image\n",
        "image, label = trainset[0]\n",
        "\n",
        "# Undo normalization ([-1,1] → [0,1]) and reorder for matplotlib\n",
        "img_to_show = (image * 0.5 + 0.5).permute(1, 2, 0)\n",
        "\n",
        "# Show\n",
        "plt.imshow(img_to_show)\n",
        "plt.title(classes[label])\n",
        "plt.show()\n"
      ]
    },
    {
      "cell_type": "code",
      "execution_count": 6,
      "metadata": {
        "id": "htJ66ynj48o2"
      },
      "outputs": [],
      "source": [
        "import torch\n",
        "import torch.nn as nn\n",
        "import torch.nn.functional as F\n",
        "\n",
        "class CIFAR10Model(nn.Module):\n",
        "    def __init__(self):\n",
        "        super().__init__()\n",
        "        self.conv1 = nn.Conv2d(3, 32, kernel_size=3, stride=1, padding=1)\n",
        "        self.pool1 = nn.MaxPool2d(2, 2)\n",
        "\n",
        "        self.conv2 = nn.Conv2d(32, 64, kernel_size=3, stride=1, padding=1)\n",
        "        self.pool2 = nn.MaxPool2d(2, 2)\n",
        "\n",
        "        self.conv3 = nn.Conv2d(64, 128, kernel_size=3, stride=1, padding=1)\n",
        "        self.pool3 = nn.MaxPool2d(2, 2)\n",
        "\n",
        "        # CIFAR-10: 32x32 → 16x16 → 8x8 → 4x4 after 3 pools\n",
        "        self.linear1 = nn.Linear(128 * 4 * 4, 128)\n",
        "        self.linear2 = nn.Linear(128, 10)\n",
        "\n",
        "    def forward(self, x):\n",
        "        x = F.relu(self.conv1(x))\n",
        "        x = self.pool1(x)\n",
        "\n",
        "        x = F.relu(self.conv2(x))\n",
        "        x = self.pool2(x)\n",
        "\n",
        "        x = F.relu(self.conv3(x))\n",
        "        x = self.pool3(x)\n",
        "\n",
        "        x = x.view(x.size(0), -1)  # flatten\n",
        "        x = F.relu(self.linear1(x))\n",
        "        x = self.linear2(x)\n",
        "        return x\n"
      ]
    },
    {
      "cell_type": "code",
      "execution_count": 7,
      "metadata": {
        "id": "IQ1CYArJFISW"
      },
      "outputs": [],
      "source": [
        "\n",
        "model=CIFAR10Model().to('cuda')\n",
        "loss_fn=nn.CrossEntropyLoss()\n",
        "optimizer=optim.Adam(model.parameters(),lr=0.001)\n",
        "\n"
      ]
    },
    {
      "cell_type": "code",
      "execution_count": 8,
      "metadata": {
        "colab": {
          "base_uri": "https://localhost:8080/"
        },
        "id": "Fk4yJ3amFJK6",
        "outputId": "f0a96e42-4e48-47eb-b19b-910387439daa"
      },
      "outputs": [
        {
          "output_type": "stream",
          "name": "stdout",
          "text": [
            "Epoch 1/30, Loss: 1.3828909397125244\n",
            "Epoch 2/30, Loss: 0.8263832330703735\n",
            "Epoch 3/30, Loss: 1.0249987840652466\n",
            "Epoch 4/30, Loss: 0.4738802909851074\n",
            "Epoch 5/30, Loss: 0.3419145345687866\n",
            "Epoch 6/30, Loss: 0.7347927689552307\n",
            "Epoch 7/30, Loss: 0.23744940757751465\n",
            "Epoch 8/30, Loss: 0.5347861051559448\n",
            "Epoch 9/30, Loss: 0.4346616864204407\n",
            "Epoch 10/30, Loss: 0.3173956274986267\n",
            "Epoch 11/30, Loss: 0.04210899397730827\n",
            "Epoch 12/30, Loss: 0.048441942781209946\n",
            "Epoch 13/30, Loss: 0.04605382680892944\n",
            "Epoch 14/30, Loss: 0.009993183426558971\n",
            "Epoch 15/30, Loss: 0.11871468275785446\n",
            "Epoch 16/30, Loss: 0.15978077054023743\n",
            "Epoch 17/30, Loss: 0.013666654005646706\n",
            "Epoch 18/30, Loss: 0.052235350012779236\n",
            "Epoch 19/30, Loss: 0.3039477467536926\n",
            "Epoch 20/30, Loss: 0.02327815815806389\n",
            "Epoch 21/30, Loss: 0.27799737453460693\n",
            "Epoch 22/30, Loss: 0.012159657664597034\n",
            "Epoch 23/30, Loss: 0.013490520417690277\n",
            "Epoch 24/30, Loss: 0.15873223543167114\n",
            "Epoch 25/30, Loss: 0.004166482947766781\n",
            "Epoch 26/30, Loss: 0.035962045192718506\n",
            "Epoch 27/30, Loss: 0.031099693849682808\n",
            "Epoch 28/30, Loss: 0.3999018669128418\n",
            "Epoch 29/30, Loss: 0.0027729037683457136\n",
            "Epoch 30/30, Loss: 0.2248835563659668\n"
          ]
        }
      ],
      "source": [
        "import time\n",
        "device='cuda'\n",
        "epochs=30\n",
        "\n",
        "for epoch in range(epochs):\n",
        "    start_time = time.time()\n",
        "    model.train()\n",
        "    running_loss = 0.0\n",
        "\n",
        "    for images, labels in train_dataloader:\n",
        "        images, labels = images.to(device), labels.to(device)\n",
        "\n",
        "        optimizer.zero_grad()\n",
        "        outputs = model(images)\n",
        "        loss = loss_fn(outputs, labels)\n",
        "        loss.backward()\n",
        "        optimizer.step()\n",
        "\n",
        "        running_loss += loss.item()\n",
        "\n",
        "    print(f\"Epoch {epoch+1}/{epochs}, Loss: {loss.item()}\")"
      ]
    },
    {
      "cell_type": "code",
      "execution_count": 9,
      "metadata": {
        "colab": {
          "base_uri": "https://localhost:8080/"
        },
        "id": "EYYik5bcBY_O",
        "outputId": "1c731ccc-77d3-4cf5-8b6c-e0834bdb4db9"
      },
      "outputs": [
        {
          "output_type": "stream",
          "name": "stdout",
          "text": [
            "Accuracy of the network on the 10000 test images: 74 %\n"
          ]
        }
      ],
      "source": [
        "model.eval()\n",
        "y_test=[]\n",
        "y_pred=[]\n",
        "with torch.no_grad():\n",
        "    correct = 0\n",
        "    total = 0\n",
        "    for images, labels in test_dataloader:\n",
        "        images, labels = images.to(device), labels.to(device)\n",
        "        outputs = model(images)\n",
        "        _, predicted = torch.max(outputs.data, 1)\n",
        "        total += labels.size(0)\n",
        "        correct += (predicted == labels).sum().item()\n",
        "        y_test.extend(labels.cpu().numpy())\n",
        "        y_pred.extend(predicted.cpu().numpy())\n",
        "print(f'Accuracy of the network on the 10000 test images: {100 * correct // total} %')\n",
        "\n",
        "\n"
      ]
    },
    {
      "cell_type": "code",
      "execution_count": 10,
      "metadata": {
        "colab": {
          "base_uri": "https://localhost:8080/"
        },
        "id": "LgfTCrpfI57S",
        "outputId": "eaa18db1-f6b6-4d56-8a59-b1c5e386db83"
      },
      "outputs": [
        {
          "output_type": "stream",
          "name": "stdout",
          "text": [
            "Accuracy: 0.7434\n",
            "\n",
            "Classification Report:\n",
            "               precision    recall  f1-score   support\n",
            "\n",
            "           0       0.79      0.79      0.79      1000\n",
            "           1       0.83      0.88      0.86      1000\n",
            "           2       0.73      0.58      0.64      1000\n",
            "           3       0.50      0.64      0.56      1000\n",
            "           4       0.74      0.65      0.69      1000\n",
            "           5       0.65      0.63      0.64      1000\n",
            "           6       0.81      0.79      0.80      1000\n",
            "           7       0.78      0.80      0.79      1000\n",
            "           8       0.84      0.86      0.85      1000\n",
            "           9       0.82      0.81      0.81      1000\n",
            "\n",
            "    accuracy                           0.74     10000\n",
            "   macro avg       0.75      0.74      0.74     10000\n",
            "weighted avg       0.75      0.74      0.74     10000\n",
            "\n",
            "\n",
            "Confusion Matrix:\n",
            " [[793  21  36  22   7   5   9  12  61  34]\n",
            " [  9 882   8   8   4   3   9   3  23  51]\n",
            " [ 68   3 579 106  71  61  52  33  11  16]\n",
            " [ 17   8  37 642  45 136  44  41  13  17]\n",
            " [ 21   6  50  96 651  43  41  78   9   5]\n",
            " [ 10   4  28 220  29 630  18  41   8  12]\n",
            " [ 10   8  29 101  23  19 794   4   6   6]\n",
            " [ 17   2  20  52  38  52   4 801   4  10]\n",
            " [ 40  30   5  25   5   3   4   6 857  25]\n",
            " [ 23  96   4  14   3  10   2  10  33 805]]\n"
          ]
        }
      ],
      "source": [
        "from sklearn.metrics import accuracy_score, classification_report, confusion_matrix\n",
        "\n",
        "print(\"Accuracy:\", accuracy_score(y_test, y_pred))\n",
        "print(\"\\nClassification Report:\\n\", classification_report(y_test, y_pred))\n",
        "print(\"\\nConfusion Matrix:\\n\", confusion_matrix(y_test, y_pred))"
      ]
    },
    {
      "cell_type": "code",
      "execution_count": 11,
      "metadata": {
        "colab": {
          "base_uri": "https://localhost:8080/",
          "height": 713
        },
        "id": "_zYY3tFqJGEv",
        "outputId": "e9133070-8765-49fc-d565-56db3bdd4427"
      },
      "outputs": [
        {
          "output_type": "execute_result",
          "data": {
            "text/plain": [
              "Text(95.72222222222221, 0.5, 'True')"
            ]
          },
          "metadata": {},
          "execution_count": 11
        },
        {
          "output_type": "display_data",
          "data": {
            "text/plain": [
              "<Figure size 1000x800 with 2 Axes>"
            ],
            "image/png": "[encoded data removed]"
          },
          "metadata": {}
        }
      ],
      "source": [
        "import matplotlib.pyplot as plt\n",
        "import numpy as np\n",
        "import seaborn as sns\n",
        "from sklearn.metrics import confusion_matrix\n",
        "\n",
        "plt.figure(figsize=(10, 8))\n",
        "sns.heatmap(confusion_matrix(y_test, y_pred), annot=True, fmt='d', cmap='Blues')\n",
        "plt.xlabel('Predicted')\n",
        "plt.ylabel('True')"
      ]
    },
    {
      "cell_type": "markdown",
      "metadata": {
        "id": "glPyk5XjOUZH"
      },
      "source": [
        "Save the trained model"
      ]
    },
    {
      "cell_type": "code",
      "execution_count": 12,
      "metadata": {
        "id": "CL_-mcNSJuOc"
      },
      "outputs": [],
      "source": [
        "torch.save(model.state_dict(), \"cifar_model.pth\")\n"
      ]
    },
    {
      "cell_type": "markdown",
      "metadata": {
        "id": "EJNFCSyzOdbe"
      },
      "source": [
        "Later, reload it into the same model class:"
      ]
    },
    {
      "cell_type": "code",
      "execution_count": 13,
      "metadata": {
        "colab": {
          "base_uri": "https://localhost:8080/"
        },
        "id": "KW1kEU4fNQFv",
        "outputId": "ccb1214d-9716-48dd-e1b2-f147a523fdb2"
      },
      "outputs": [
        {
          "output_type": "execute_result",
          "data": {
            "text/plain": [
              "CIFAR10Model(\n",
              "  (conv1): Conv2d(3, 32, kernel_size=(3, 3), stride=(1, 1), padding=(1, 1))\n",
              "  (pool1): MaxPool2d(kernel_size=2, stride=2, padding=0, dilation=1, ceil_mode=False)\n",
              "  (conv2): Conv2d(32, 64, kernel_size=(3, 3), stride=(1, 1), padding=(1, 1))\n",
              "  (pool2): MaxPool2d(kernel_size=2, stride=2, padding=0, dilation=1, ceil_mode=False)\n",
              "  (conv3): Conv2d(64, 128, kernel_size=(3, 3), stride=(1, 1), padding=(1, 1))\n",
              "  (pool3): MaxPool2d(kernel_size=2, stride=2, padding=0, dilation=1, ceil_mode=False)\n",
              "  (linear1): Linear(in_features=2048, out_features=128, bias=True)\n",
              "  (linear2): Linear(in_features=128, out_features=10, bias=True)\n",
              ")"
            ]
          },
          "metadata": {},
          "execution_count": 13
        }
      ],
      "source": [
        "model = CIFAR10Model()\n",
        "model.load_state_dict(torch.load(\"cifar_model.pth\", map_location=device))\n",
        "model.to(device)\n",
        "model.eval()\n"
      ]
    },
    {
      "cell_type": "markdown",
      "metadata": {
        "id": "EvCgqbAYOkHa"
      },
      "source": [
        "Define test transform"
      ]
    },
    {
      "cell_type": "code",
      "execution_count": 14,
      "metadata": {
        "id": "oB780aVGOccL"
      },
      "outputs": [],
      "source": [
        "import torchvision.transforms as T\n",
        "from PIL import Image\n",
        "\n",
        "# CIFAR-10 classes\n",
        "classes = ['airplane','automobile','bird','cat','deer',\n",
        "           'dog','frog','horse','ship','truck']\n",
        "\n",
        "test_transform = T.Compose([\n",
        "    T.Resize((32, 32)),\n",
        "    T.ToTensor(),\n",
        "    T.Normalize((0.5,0.5,0.5), (0.5,0.5,0.5))\n",
        "])\n"
      ]
    },
    {
      "cell_type": "markdown",
      "metadata": {
        "id": "GfaA-Lw4OuYJ"
      },
      "source": [
        "3. Load and test a single image"
      ]
    },
    {
      "cell_type": "code",
      "execution_count": 17,
      "metadata": {
        "id": "qARC05t9N8SX",
        "colab": {
          "base_uri": "https://localhost:8080/"
        },
        "outputId": "43f4833e-5826-4cdb-97d9-03b576a1f3ba"
      },
      "outputs": [
        {
          "output_type": "stream",
          "name": "stdout",
          "text": [
            "Predicted class: cat\n"
          ]
        }
      ],
      "source": [
        "# Load the image\n",
        "img = Image.open(\"/content/cat_image.jpg\")\n",
        "\n",
        "# Apply same transform as CIFAR test set\n",
        "img_tensor = test_transform(img).unsqueeze(0).to(device)  # add batch dimension + move to GPU\n",
        "\n",
        "# Predict\n",
        "with torch.no_grad():\n",
        "    outputs = model(img_tensor)\n",
        "    _, predicted = torch.max(outputs, 1)\n",
        "\n",
        "print(\"Predicted class:\", classes[predicted.item()])\n"
      ]
    },
    {
      "cell_type": "code",
      "execution_count": 19,
      "metadata": {
        "id": "0wVFTp3TO0y_",
        "colab": {
          "base_uri": "https://localhost:8080/"
        },
        "outputId": "b25784de-395b-4ea9-d729-374ee40449be"
      },
      "outputs": [
        {
          "output_type": "stream",
          "name": "stdout",
          "text": [
            "Ground truth: cat\n",
            "Predicted   : cat\n"
          ]
        }
      ],
      "source": [
        "import torchvision.datasets as datasets\n",
        "import torchvision.transforms as T\n",
        "from torch.utils.data import DataLoader\n",
        "\n",
        "# Use the same test transform\n",
        "test_dataset = datasets.CIFAR10(root=\"./data\", train=False, download=True, transform=test_transform)\n",
        "\n",
        "# Pick one sample\n",
        "img, label = test_dataset[0]\n",
        "img = img.unsqueeze(0).to(device)  # add batch dimension\n",
        "\n",
        "with torch.no_grad():\n",
        "    outputs = model(img)\n",
        "    _, predicted = outputs.max(1)\n",
        "\n",
        "print(\"Ground truth:\", classes[label])\n",
        "print(\"Predicted   :\", classes[predicted.item()])\n"
      ]
    },
    {
      "cell_type": "code",
      "source": [],
      "metadata": {
        "id": "Gd7notu3ThQx"
      },
      "execution_count": 19,
      "outputs": []
    }
  ],
  "metadata": {
    "accelerator": "GPU",
    "colab": {
      "gpuType": "T4",
      "provenance": [],
      "authorship_tag": "ABX9TyNj3cxycQJyZSRjB/I/Mav1",
      "include_colab_link": true
    },
    "kernelspec": {
      "display_name": "Python 3",
      "name": "python3"
    },
    "language_info": {
      "name": "python"
    }
  },
  "nbformat": 4,
  "nbformat_minor": 0
}